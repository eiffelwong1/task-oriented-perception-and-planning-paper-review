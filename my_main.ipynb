{
 "nbformat": 4,
 "nbformat_minor": 2,
 "metadata": {
  "language_info": {
   "name": "python",
   "codemirror_mode": {
    "name": "ipython",
    "version": 3
   },
   "version": "3.8.5-final"
  },
  "orig_nbformat": 2,
  "file_extension": ".py",
  "mimetype": "text/x-python",
  "name": "python",
  "npconvert_exporter": "python",
  "pygments_lexer": "ipython3",
  "version": 3,
  "kernelspec": {
   "name": "python38564bit33965378f01044d9b0dd8a18e6515429",
   "display_name": "Python 3.8.5 64-bit"
  }
 },
 "cells": [
  {
   "cell_type": "code",
   "execution_count": 1,
   "metadata": {},
   "outputs": [],
   "source": [
    "from partial_semantics import *\n",
    "from utils import *\n",
    "from compute_all_vis import *"
   ]
  },
  {
   "cell_type": "code",
   "execution_count": 2,
   "metadata": {},
   "outputs": [],
   "source": [
    "n_iter = 1\n",
    "\n"
   ]
  },
  {
   "cell_type": "code",
   "execution_count": 8,
   "metadata": {},
   "outputs": [
    {
     "ename": "NameError",
     "evalue": "name 'labeled_point_cloud' is not defined",
     "output_type": "error",
     "traceback": [
      "\u001b[0;31m---------------------------------------------------------------------------\u001b[0m",
      "\u001b[0;31mNameError\u001b[0m                                 Traceback (most recent call last)",
      "\u001b[0;32m<ipython-input-8-f559110afc71>\u001b[0m in \u001b[0;36m<module>\u001b[0;34m\u001b[0m\n\u001b[1;32m     14\u001b[0m     \u001b[0mvisit_freq\u001b[0m \u001b[0;34m=\u001b[0m \u001b[0mnp\u001b[0m\u001b[0;34m.\u001b[0m\u001b[0mones\u001b[0m\u001b[0;34m(\u001b[0m\u001b[0mlen\u001b[0m\u001b[0;34m(\u001b[0m\u001b[0mmodel\u001b[0m\u001b[0;34m.\u001b[0m\u001b[0mstates\u001b[0m\u001b[0;34m)\u001b[0m\u001b[0;34m)\u001b[0m\u001b[0;34m\u001b[0m\u001b[0;34m\u001b[0m\u001b[0m\n\u001b[1;32m     15\u001b[0m \u001b[0;34m\u001b[0m\u001b[0m\n\u001b[0;32m---> 16\u001b[0;31m     \u001b[0mgridworld\u001b[0m \u001b[0;34m=\u001b[0m \u001b[0mgridworld_gen\u001b[0m\u001b[0;34m(\u001b[0m\u001b[0mlabeled_point_cloud\u001b[0m\u001b[0;34m,\u001b[0m\u001b[0mgrid_space\u001b[0m\u001b[0;34m,\u001b[0m\u001b[0mx_state_num\u001b[0m\u001b[0;34m,\u001b[0m\u001b[0my_state_num\u001b[0m\u001b[0;34m)\u001b[0m\u001b[0;34m\u001b[0m\u001b[0;34m\u001b[0m\u001b[0m\n\u001b[0m\u001b[1;32m     17\u001b[0m     \u001b[0mbusy\u001b[0m \u001b[0;34m=\u001b[0m \u001b[0;34m[\u001b[0m\u001b[0;34m]\u001b[0m\u001b[0;34m\u001b[0m\u001b[0;34m\u001b[0m\u001b[0m\n\u001b[1;32m     18\u001b[0m     \u001b[0;32mfor\u001b[0m \u001b[0mi\u001b[0m \u001b[0;32min\u001b[0m \u001b[0mrange\u001b[0m\u001b[0;34m(\u001b[0m\u001b[0mgridworld\u001b[0m\u001b[0;34m.\u001b[0m\u001b[0mshape\u001b[0m\u001b[0;34m[\u001b[0m\u001b[0;36m0\u001b[0m\u001b[0;34m]\u001b[0m\u001b[0;34m)\u001b[0m\u001b[0;34m:\u001b[0m\u001b[0;34m\u001b[0m\u001b[0;34m\u001b[0m\u001b[0m\n",
      "\u001b[0;31mNameError\u001b[0m: name 'labeled_point_cloud' is not defined"
     ]
    }
   ],
   "source": [
    "spec_true = [[],[]]\n",
    "\n",
    "for iter in range(n_iter):\n",
    "\n",
    "    model = MDP(\"simple\")\n",
    "    model.semantic_representation() \n",
    "\n",
    "    for s in range(len(model.states)):\n",
    "        if model.label_true[s,0] == True:\n",
    "            spec_true[0].append(s)\n",
    "        if model.label_true[s,1] == True:\n",
    "            spec_true[1].append(s)\n",
    "\n",
    "    visit_freq = np.ones(len(model.states))\n",
    "\n",
    "    gridworld = \n",
    "    busy = []\n",
    "    # compute visibility for each state\n",
    "    notVis = compute_visibility_for_all(busy, y_state_num, x_state_num, agent_y, agent_x, radius = 100)\n",
    "    notVis = list(set(notVis).difference(set(busy)))\n",
    "\n",
    "    # update belief\n",
    "    next_label_belief = copy.deepcopy(model.label_belief)\n",
    "    visit_freq_next = copy.deepcopy(visit_freq) + 1\n",
    "    for s in notVis:\n",
    "        visit_freq_next[s] -= 1\n",
    "    for s in model.states:\n",
    "        # update for 'obstacle'\n",
    "        next_label_belief[s,0] = (next_label_belief[s,0]*visit_freq[s] + gridworld[s,1]) / visit_freq_next[s]\n",
    "        # update for 'target'\n",
    "        next_label_belief[s,1] = (next_label_belief[s,1]*visit_freq[s] + gridworld[s,2]) / visit_freq_next[s]\n",
    "    visit_freq = copy.deepcopy(visit_freq_next)\n",
    "\n"
   ]
  },
  {
   "cell_type": "code",
   "execution_count": 8,
   "metadata": {},
   "outputs": [],
   "source": [
    "auto = Automaton(\"reach_avoid\")"
   ]
  },
  {
   "cell_type": "code",
   "execution_count": null,
   "metadata": {},
   "outputs": [],
   "source": [
    "auto"
   ]
  }
 ]
}